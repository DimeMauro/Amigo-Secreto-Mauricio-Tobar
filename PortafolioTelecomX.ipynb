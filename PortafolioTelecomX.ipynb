{
  "nbformat": 4,
  "nbformat_minor": 0,
  "metadata": {
    "colab": {
      "provenance": [],
      "authorship_tag": "ABX9TyNy8JiSvV3OtlTW4MF7OerH",
      "include_colab_link": true
    },
    "kernelspec": {
      "name": "python3",
      "display_name": "Python 3"
    },
    "language_info": {
      "name": "python"
    }
  },
  "cells": [
    {
      "cell_type": "markdown",
      "metadata": {
        "id": "view-in-github",
        "colab_type": "text"
      },
      "source": [
        "<a href=\"https://colab.research.google.com/github/DimeMauro/Amigo-Secreto-Mauricio-Tobar/blob/main/PortafolioTelecomX.ipynb\" target=\"_parent\"><img src=\"https://colab.research.google.com/assets/colab-badge.svg\" alt=\"Open In Colab\"/></a>"
      ]
    },
    {
      "cell_type": "code",
      "execution_count": 2,
      "metadata": {
        "id": "RC6q1AHMMeiB"
      },
      "outputs": [],
      "source": [
        "from google.colab import files"
      ]
    },
    {
      "cell_type": "code",
      "source": [
        "uploaded = files.upload()\n"
      ],
      "metadata": {
        "colab": {
          "base_uri": "https://localhost:8080/",
          "height": 73
        },
        "id": "F-ZkOWVaM1wR",
        "outputId": "0c081a83-df0d-4e3d-cdbc-2db4e9599896"
      },
      "execution_count": 3,
      "outputs": [
        {
          "output_type": "display_data",
          "data": {
            "text/plain": [
              "<IPython.core.display.HTML object>"
            ],
            "text/html": [
              "\n",
              "     <input type=\"file\" id=\"files-975def88-388f-45f5-8eaa-d415d3555dae\" name=\"files[]\" multiple disabled\n",
              "        style=\"border:none\" />\n",
              "     <output id=\"result-975def88-388f-45f5-8eaa-d415d3555dae\">\n",
              "      Upload widget is only available when the cell has been executed in the\n",
              "      current browser session. Please rerun this cell to enable.\n",
              "      </output>\n",
              "      <script>// Copyright 2017 Google LLC\n",
              "//\n",
              "// Licensed under the Apache License, Version 2.0 (the \"License\");\n",
              "// you may not use this file except in compliance with the License.\n",
              "// You may obtain a copy of the License at\n",
              "//\n",
              "//      http://www.apache.org/licenses/LICENSE-2.0\n",
              "//\n",
              "// Unless required by applicable law or agreed to in writing, software\n",
              "// distributed under the License is distributed on an \"AS IS\" BASIS,\n",
              "// WITHOUT WARRANTIES OR CONDITIONS OF ANY KIND, either express or implied.\n",
              "// See the License for the specific language governing permissions and\n",
              "// limitations under the License.\n",
              "\n",
              "/**\n",
              " * @fileoverview Helpers for google.colab Python module.\n",
              " */\n",
              "(function(scope) {\n",
              "function span(text, styleAttributes = {}) {\n",
              "  const element = document.createElement('span');\n",
              "  element.textContent = text;\n",
              "  for (const key of Object.keys(styleAttributes)) {\n",
              "    element.style[key] = styleAttributes[key];\n",
              "  }\n",
              "  return element;\n",
              "}\n",
              "\n",
              "// Max number of bytes which will be uploaded at a time.\n",
              "const MAX_PAYLOAD_SIZE = 100 * 1024;\n",
              "\n",
              "function _uploadFiles(inputId, outputId) {\n",
              "  const steps = uploadFilesStep(inputId, outputId);\n",
              "  const outputElement = document.getElementById(outputId);\n",
              "  // Cache steps on the outputElement to make it available for the next call\n",
              "  // to uploadFilesContinue from Python.\n",
              "  outputElement.steps = steps;\n",
              "\n",
              "  return _uploadFilesContinue(outputId);\n",
              "}\n",
              "\n",
              "// This is roughly an async generator (not supported in the browser yet),\n",
              "// where there are multiple asynchronous steps and the Python side is going\n",
              "// to poll for completion of each step.\n",
              "// This uses a Promise to block the python side on completion of each step,\n",
              "// then passes the result of the previous step as the input to the next step.\n",
              "function _uploadFilesContinue(outputId) {\n",
              "  const outputElement = document.getElementById(outputId);\n",
              "  const steps = outputElement.steps;\n",
              "\n",
              "  const next = steps.next(outputElement.lastPromiseValue);\n",
              "  return Promise.resolve(next.value.promise).then((value) => {\n",
              "    // Cache the last promise value to make it available to the next\n",
              "    // step of the generator.\n",
              "    outputElement.lastPromiseValue = value;\n",
              "    return next.value.response;\n",
              "  });\n",
              "}\n",
              "\n",
              "/**\n",
              " * Generator function which is called between each async step of the upload\n",
              " * process.\n",
              " * @param {string} inputId Element ID of the input file picker element.\n",
              " * @param {string} outputId Element ID of the output display.\n",
              " * @return {!Iterable<!Object>} Iterable of next steps.\n",
              " */\n",
              "function* uploadFilesStep(inputId, outputId) {\n",
              "  const inputElement = document.getElementById(inputId);\n",
              "  inputElement.disabled = false;\n",
              "\n",
              "  const outputElement = document.getElementById(outputId);\n",
              "  outputElement.innerHTML = '';\n",
              "\n",
              "  const pickedPromise = new Promise((resolve) => {\n",
              "    inputElement.addEventListener('change', (e) => {\n",
              "      resolve(e.target.files);\n",
              "    });\n",
              "  });\n",
              "\n",
              "  const cancel = document.createElement('button');\n",
              "  inputElement.parentElement.appendChild(cancel);\n",
              "  cancel.textContent = 'Cancel upload';\n",
              "  const cancelPromise = new Promise((resolve) => {\n",
              "    cancel.onclick = () => {\n",
              "      resolve(null);\n",
              "    };\n",
              "  });\n",
              "\n",
              "  // Wait for the user to pick the files.\n",
              "  const files = yield {\n",
              "    promise: Promise.race([pickedPromise, cancelPromise]),\n",
              "    response: {\n",
              "      action: 'starting',\n",
              "    }\n",
              "  };\n",
              "\n",
              "  cancel.remove();\n",
              "\n",
              "  // Disable the input element since further picks are not allowed.\n",
              "  inputElement.disabled = true;\n",
              "\n",
              "  if (!files) {\n",
              "    return {\n",
              "      response: {\n",
              "        action: 'complete',\n",
              "      }\n",
              "    };\n",
              "  }\n",
              "\n",
              "  for (const file of files) {\n",
              "    const li = document.createElement('li');\n",
              "    li.append(span(file.name, {fontWeight: 'bold'}));\n",
              "    li.append(span(\n",
              "        `(${file.type || 'n/a'}) - ${file.size} bytes, ` +\n",
              "        `last modified: ${\n",
              "            file.lastModifiedDate ? file.lastModifiedDate.toLocaleDateString() :\n",
              "                                    'n/a'} - `));\n",
              "    const percent = span('0% done');\n",
              "    li.appendChild(percent);\n",
              "\n",
              "    outputElement.appendChild(li);\n",
              "\n",
              "    const fileDataPromise = new Promise((resolve) => {\n",
              "      const reader = new FileReader();\n",
              "      reader.onload = (e) => {\n",
              "        resolve(e.target.result);\n",
              "      };\n",
              "      reader.readAsArrayBuffer(file);\n",
              "    });\n",
              "    // Wait for the data to be ready.\n",
              "    let fileData = yield {\n",
              "      promise: fileDataPromise,\n",
              "      response: {\n",
              "        action: 'continue',\n",
              "      }\n",
              "    };\n",
              "\n",
              "    // Use a chunked sending to avoid message size limits. See b/62115660.\n",
              "    let position = 0;\n",
              "    do {\n",
              "      const length = Math.min(fileData.byteLength - position, MAX_PAYLOAD_SIZE);\n",
              "      const chunk = new Uint8Array(fileData, position, length);\n",
              "      position += length;\n",
              "\n",
              "      const base64 = btoa(String.fromCharCode.apply(null, chunk));\n",
              "      yield {\n",
              "        response: {\n",
              "          action: 'append',\n",
              "          file: file.name,\n",
              "          data: base64,\n",
              "        },\n",
              "      };\n",
              "\n",
              "      let percentDone = fileData.byteLength === 0 ?\n",
              "          100 :\n",
              "          Math.round((position / fileData.byteLength) * 100);\n",
              "      percent.textContent = `${percentDone}% done`;\n",
              "\n",
              "    } while (position < fileData.byteLength);\n",
              "  }\n",
              "\n",
              "  // All done.\n",
              "  yield {\n",
              "    response: {\n",
              "      action: 'complete',\n",
              "    }\n",
              "  };\n",
              "}\n",
              "\n",
              "scope.google = scope.google || {};\n",
              "scope.google.colab = scope.google.colab || {};\n",
              "scope.google.colab._files = {\n",
              "  _uploadFiles,\n",
              "  _uploadFilesContinue,\n",
              "};\n",
              "})(self);\n",
              "</script> "
            ]
          },
          "metadata": {}
        },
        {
          "output_type": "stream",
          "name": "stdout",
          "text": [
            "Saving TelecomX_Data.json to TelecomX_Data.json\n"
          ]
        }
      ]
    },
    {
      "cell_type": "code",
      "source": [
        "import json\n"
      ],
      "metadata": {
        "id": "HD9-s9o_M768"
      },
      "execution_count": 4,
      "outputs": []
    },
    {
      "cell_type": "code",
      "source": [
        "with open('TelecomX_Data.json', 'r') as f:\n",
        "    data = json.load(f)\n"
      ],
      "metadata": {
        "id": "vGgk3sO1M_WO"
      },
      "execution_count": 7,
      "outputs": []
    },
    {
      "cell_type": "code",
      "source": [
        "import json\n",
        "import pandas as pd\n",
        "\n",
        "# Cargar el archivo JSON\n",
        "with open('TelecomX_Data.json', 'r') as file:\n",
        "    data = json.load(file)\n",
        "\n",
        "# Convertir a DataFrame (cada fila representa un cliente)\n",
        "df = pd.json_normalize(data)\n",
        "\n",
        "# Mostrar las primeras filas\n",
        "print(df.head())\n",
        "\n",
        "# Ver columnas y tipos de datos\n",
        "print(df.dtypes)\n"
      ],
      "metadata": {
        "colab": {
          "base_uri": "https://localhost:8080/"
        },
        "id": "8mr2iVuaNO4R",
        "outputId": "71727e9c-e46c-4e42-fa2c-1604f3201860"
      },
      "execution_count": 9,
      "outputs": [
        {
          "output_type": "stream",
          "name": "stdout",
          "text": [
            "   customerID Churn customer.gender  customer.SeniorCitizen customer.Partner  \\\n",
            "0  0002-ORFBO    No          Female                       0              Yes   \n",
            "1  0003-MKNFE    No            Male                       0               No   \n",
            "2  0004-TLHLJ   Yes            Male                       0               No   \n",
            "3  0011-IGKFF   Yes            Male                       1              Yes   \n",
            "4  0013-EXCHZ   Yes          Female                       1              Yes   \n",
            "\n",
            "  customer.Dependents  customer.tenure phone.PhoneService phone.MultipleLines  \\\n",
            "0                 Yes                9                Yes                  No   \n",
            "1                  No                9                Yes                 Yes   \n",
            "2                  No                4                Yes                  No   \n",
            "3                  No               13                Yes                  No   \n",
            "4                  No                3                Yes                  No   \n",
            "\n",
            "  internet.InternetService  ... internet.OnlineBackup  \\\n",
            "0                      DSL  ...                   Yes   \n",
            "1                      DSL  ...                    No   \n",
            "2              Fiber optic  ...                    No   \n",
            "3              Fiber optic  ...                   Yes   \n",
            "4              Fiber optic  ...                    No   \n",
            "\n",
            "  internet.DeviceProtection internet.TechSupport internet.StreamingTV  \\\n",
            "0                        No                  Yes                  Yes   \n",
            "1                        No                   No                   No   \n",
            "2                       Yes                   No                   No   \n",
            "3                       Yes                   No                  Yes   \n",
            "4                        No                  Yes                  Yes   \n",
            "\n",
            "  internet.StreamingMovies account.Contract account.PaperlessBilling  \\\n",
            "0                       No         One year                      Yes   \n",
            "1                      Yes   Month-to-month                       No   \n",
            "2                       No   Month-to-month                      Yes   \n",
            "3                      Yes   Month-to-month                      Yes   \n",
            "4                       No   Month-to-month                      Yes   \n",
            "\n",
            "  account.PaymentMethod account.Charges.Monthly  account.Charges.Total  \n",
            "0          Mailed check                    65.6                  593.3  \n",
            "1          Mailed check                    59.9                  542.4  \n",
            "2      Electronic check                    73.9                 280.85  \n",
            "3      Electronic check                    98.0                1237.85  \n",
            "4          Mailed check                    83.9                  267.4  \n",
            "\n",
            "[5 rows x 21 columns]\n",
            "customerID                    object\n",
            "Churn                         object\n",
            "customer.gender               object\n",
            "customer.SeniorCitizen         int64\n",
            "customer.Partner              object\n",
            "customer.Dependents           object\n",
            "customer.tenure                int64\n",
            "phone.PhoneService            object\n",
            "phone.MultipleLines           object\n",
            "internet.InternetService      object\n",
            "internet.OnlineSecurity       object\n",
            "internet.OnlineBackup         object\n",
            "internet.DeviceProtection     object\n",
            "internet.TechSupport          object\n",
            "internet.StreamingTV          object\n",
            "internet.StreamingMovies      object\n",
            "account.Contract              object\n",
            "account.PaperlessBilling      object\n",
            "account.PaymentMethod         object\n",
            "account.Charges.Monthly      float64\n",
            "account.Charges.Total         object\n",
            "dtype: object\n"
          ]
        }
      ]
    },
    {
      "cell_type": "code",
      "source": [
        "print(df.columns.tolist())\n"
      ],
      "metadata": {
        "colab": {
          "base_uri": "https://localhost:8080/"
        },
        "id": "k4Ihs-CROnqJ",
        "outputId": "ccd9e786-d539-4245-f247-69144b20427d"
      },
      "execution_count": 10,
      "outputs": [
        {
          "output_type": "stream",
          "name": "stdout",
          "text": [
            "['customerID', 'Churn', 'customer.gender', 'customer.SeniorCitizen', 'customer.Partner', 'customer.Dependents', 'customer.tenure', 'phone.PhoneService', 'phone.MultipleLines', 'internet.InternetService', 'internet.OnlineSecurity', 'internet.OnlineBackup', 'internet.DeviceProtection', 'internet.TechSupport', 'internet.StreamingTV', 'internet.StreamingMovies', 'account.Contract', 'account.PaperlessBilling', 'account.PaymentMethod', 'account.Charges.Monthly', 'account.Charges.Total']\n"
          ]
        }
      ]
    },
    {
      "cell_type": "code",
      "source": [
        "# Seleccionar variables posiblemente relevantes\n",
        "relevant_columns = [\n",
        "    'Churn',\n",
        "    'customer.SeniorCitizen',\n",
        "    'customer.Partner',\n",
        "    'customer.Dependents',\n",
        "    'customer.tenure',\n",
        "    'phone.PhoneService',\n",
        "    'phone.MultipleLines',\n",
        "    'internet.InternetService',\n",
        "    'internet.OnlineSecurity',\n",
        "    'internet.TechSupport',\n",
        "    'account.Contract',\n",
        "    'account.PaperlessBilling',\n",
        "    'account.PaymentMethod',\n",
        "    'account.Charges.Monthly',\n",
        "    'account.Charges.Total'\n",
        "]\n",
        "\n",
        "# Verificar si todas existen\n",
        "print(set(relevant_columns).intersection(df.columns))\n"
      ],
      "metadata": {
        "colab": {
          "base_uri": "https://localhost:8080/"
        },
        "id": "193GCPoiOrbI",
        "outputId": "4b8f235f-cead-4eb7-a421-21b1bbefa6b3"
      },
      "execution_count": 11,
      "outputs": [
        {
          "output_type": "stream",
          "name": "stdout",
          "text": [
            "{'customer.tenure', 'internet.InternetService', 'customer.Partner', 'internet.OnlineSecurity', 'account.Charges.Monthly', 'customer.SeniorCitizen', 'account.Charges.Total', 'account.Contract', 'Churn', 'account.PaymentMethod', 'phone.PhoneService', 'phone.MultipleLines', 'account.PaperlessBilling', 'customer.Dependents', 'internet.TechSupport'}\n"
          ]
        }
      ]
    },
    {
      "cell_type": "code",
      "source": [
        "# 1. Valores ausentes\n",
        "missing_values = df.isnull().sum()\n",
        "print(\"🔎 Valores ausentes por columna:\\n\", missing_values[missing_values > 0])\n",
        "\n",
        "# 2. Filas duplicadas\n",
        "duplicate_rows = df.duplicated().sum()\n",
        "print(f\"\\n🔁 Filas duplicadas: {duplicate_rows}\")\n",
        "\n",
        "# 3. Errores de formato (ej. tipo incorrecto en 'Charges.Total')\n",
        "df['account.Charges.Total'] = pd.to_numeric(df['account.Charges.Total'], errors='coerce')\n",
        "df['account.Charges.Monthly'] = pd.to_numeric(df['account.Charges.Monthly'], errors='coerce')\n",
        "\n",
        "charges_format_errors = df[['account.Charges.Monthly', 'account.Charges.Total']].isnull().sum()\n",
        "print(\"\\n💵 Errores en formato de columnas numéricas:\\n\", charges_format_errors)\n",
        "\n",
        "# 4. Inconsistencias en la columna 'Churn'\n",
        "print(\"\\n📌 Valores únicos en 'Churn':\", df['Churn'].unique())\n",
        "\n",
        "# Tip: Si hay espacios, valores vacíos o nulos en 'Churn', podrías limpiarlos así:\n",
        "df['Churn'] = df['Churn'].str.strip().replace('', pd.NA)\n",
        "\n",
        "# 5. Revisar columnas categóricas clave para detectar inconsistencias\n",
        "categorical_cols = [\n",
        "    'Churn',\n",
        "    'customer.gender',\n",
        "    'customer.Partner',\n",
        "    'customer.Dependents',\n",
        "    'phone.PhoneService',\n",
        "    'internet.InternetService',\n",
        "    'account.Contract',\n",
        "    'account.PaymentMethod'\n",
        "]\n",
        "\n",
        "print(\"\\n🔠 Valores únicos en columnas categóricas relevantes:\")\n",
        "for col in categorical_cols:\n",
        "    if col in df.columns:\n",
        "        print(f\"{col}: {df[col].dropna().unique()}\")\n",
        ""
      ],
      "metadata": {
        "colab": {
          "base_uri": "https://localhost:8080/"
        },
        "id": "M3edP2WXO8Wc",
        "outputId": "5168937b-cbf7-44bf-bc67-3dedfab143d7"
      },
      "execution_count": 12,
      "outputs": [
        {
          "output_type": "stream",
          "name": "stdout",
          "text": [
            "🔎 Valores ausentes por columna:\n",
            " Series([], dtype: int64)\n",
            "\n",
            "🔁 Filas duplicadas: 0\n",
            "\n",
            "💵 Errores en formato de columnas numéricas:\n",
            " account.Charges.Monthly     0\n",
            "account.Charges.Total      11\n",
            "dtype: int64\n",
            "\n",
            "📌 Valores únicos en 'Churn': ['No' 'Yes' '']\n",
            "\n",
            "🔠 Valores únicos en columnas categóricas relevantes:\n",
            "Churn: ['No' 'Yes']\n",
            "customer.gender: ['Female' 'Male']\n",
            "customer.Partner: ['Yes' 'No']\n",
            "customer.Dependents: ['Yes' 'No']\n",
            "phone.PhoneService: ['Yes' 'No']\n",
            "internet.InternetService: ['DSL' 'Fiber optic' 'No']\n",
            "account.Contract: ['One year' 'Month-to-month' 'Two year']\n",
            "account.PaymentMethod: ['Mailed check' 'Electronic check' 'Credit card (automatic)'\n",
            " 'Bank transfer (automatic)']\n"
          ]
        }
      ]
    },
    {
      "cell_type": "code",
      "source": [
        "# ====================\n",
        "# 🔁 Eliminar duplicados\n",
        "# ====================\n",
        "df.drop_duplicates(inplace=True)\n",
        "\n",
        "# ====================\n",
        "# 💵 Corregir tipo numérico\n",
        "# ====================\n",
        "for col in ['account.Charges.Monthly', 'account.Charges.Total']:\n",
        "    df[col] = pd.to_numeric(df[col], errors='coerce')\n",
        "\n",
        "# ====================\n",
        "# 🧼 Limpiar valores categóricos\n",
        "# ====================\n",
        "# Strip y reemplazo de vacíos en columnas categóricas clave\n",
        "categorical_cols = [\n",
        "    'Churn', 'customer.gender', 'customer.Partner', 'customer.Dependents',\n",
        "    'phone.PhoneService', 'phone.MultipleLines',\n",
        "    'internet.InternetService', 'internet.OnlineSecurity',\n",
        "    'internet.OnlineBackup', 'internet.DeviceProtection',\n",
        "    'internet.TechSupport', 'internet.StreamingTV',\n",
        "    'internet.StreamingMovies', 'account.Contract',\n",
        "    'account.PaperlessBilling', 'account.PaymentMethod'\n",
        "]\n",
        "\n",
        "for col in categorical_cols:\n",
        "    if col in df.columns:\n",
        "        df[col] = df[col].astype(str).str.strip().replace('', pd.NA)\n",
        "\n",
        "# ====================\n",
        "# 📌 Establecer categorías válidas para 'Churn'\n",
        "# ====================\n",
        "df['Churn'] = df['Churn'].replace({'nan': pd.NA}).dropna()\n",
        "df = df[df['Churn'].isin(['Yes', 'No'])]  # Eliminar valores inválidos\n",
        "\n",
        "# ====================\n",
        "# 🧹 Eliminar filas con valores numéricos faltantes importantes\n",
        "# ====================\n",
        "df.dropna(subset=['account.Charges.Monthly', 'account.Charges.Total'], inplace=True)\n",
        "\n",
        "# ====================\n",
        "# ✅ Resultado final\n",
        "# ====================\n",
        "print(\"✔️ Dataset limpio. Tamaño final:\", df.shape)\n",
        "print(\"📊 Distribución de 'Churn':\\n\", df['Churn'].value_counts())"
      ],
      "metadata": {
        "colab": {
          "base_uri": "https://localhost:8080/"
        },
        "id": "-3WSXINDPO7x",
        "outputId": "5df91c9e-f915-4ead-c6f7-19d999ff16b2"
      },
      "execution_count": 13,
      "outputs": [
        {
          "output_type": "stream",
          "name": "stdout",
          "text": [
            "✔️ Dataset limpio. Tamaño final: (7032, 21)\n",
            "📊 Distribución de 'Churn':\n",
            " Churn\n",
            "No     5163\n",
            "Yes    1869\n",
            "Name: count, dtype: int64\n"
          ]
        }
      ]
    },
    {
      "cell_type": "code",
      "source": [
        "df['Cuentas_Diarias'] = df['account.Charges.Monthly'] / 30\n",
        "\n",
        "# Verifica el resultado\n",
        "print(df[['account.Charges.Monthly', 'Cuentas_Diarias']].head())"
      ],
      "metadata": {
        "colab": {
          "base_uri": "https://localhost:8080/"
        },
        "id": "ntSXjfzHPb_f",
        "outputId": "205395f3-afe1-4d44-8890-f4d62f210cf7"
      },
      "execution_count": 14,
      "outputs": [
        {
          "output_type": "stream",
          "name": "stdout",
          "text": [
            "   account.Charges.Monthly  Cuentas_Diarias\n",
            "0                     65.6         2.186667\n",
            "1                     59.9         1.996667\n",
            "2                     73.9         2.463333\n",
            "3                     98.0         3.266667\n",
            "4                     83.9         2.796667\n"
          ]
        }
      ]
    },
    {
      "cell_type": "code",
      "source": [],
      "metadata": {
        "id": "7qq4SPrrQNmQ"
      },
      "execution_count": null,
      "outputs": []
    },
    {
      "cell_type": "code",
      "source": [
        "# 1. Convertir \"Yes\"/\"No\" a binario (1/0)\n",
        "yes_no_cols = [\n",
        "    'Churn', 'customer.Partner', 'customer.Dependents',\n",
        "    'phone.PhoneService', 'phone.MultipleLines',\n",
        "    'internet.OnlineSecurity', 'internet.OnlineBackup',\n",
        "    'internet.DeviceProtection', 'internet.TechSupport',\n",
        "    'internet.StreamingTV', 'internet.StreamingMovies',\n",
        "    'account.PaperlessBilling'\n",
        "]\n",
        "\n",
        "for col in yes_no_cols:\n",
        "    if col in df.columns:\n",
        "        df[col] = df[col].map({'Yes': 1, 'No': 0})\n",
        "\n",
        "# 2. Convertir 'Churn' a variable binaria (objetivo)\n",
        "df['Churn'] = df['Churn'].map({'Yes': 1, 'No': 0})\n",
        "\n",
        "# 3. Renombrar columnas para facilitar la lectura\n",
        "df.rename(columns={\n",
        "    'customer.gender': 'Genero',\n",
        "    'customer.SeniorCitizen': 'Ciudadano_Senior',\n",
        "    'customer.Partner': 'Tiene_Pareja',\n",
        "    'customer.Dependents': 'Tiene_Dependientes',\n",
        "    'customer.tenure': 'Meses_Tenencia',\n",
        "    'phone.PhoneService': 'Tiene_Telefono',\n",
        "    'phone.MultipleLines': 'Lineas_Multiples',\n",
        "    'internet.InternetService': 'Tipo_Internet',\n",
        "    'internet.OnlineSecurity': 'Seguridad_Online',\n",
        "    'internet.OnlineBackup': 'Respaldo_Online',\n",
        "    'internet.DeviceProtection': 'Proteccion_Dispositivo',\n",
        "    'internet.TechSupport': 'Soporte_Tecnico',\n",
        "    'internet.StreamingTV': 'TV_Streaming',\n",
        "    'internet.StreamingMovies': 'Peliculas_Streaming',\n",
        "    'account.Contract': 'Tipo_Contrato',\n",
        "    'account.PaperlessBilling': 'Facturacion_Sin_Papel',\n",
        "    'account.PaymentMethod': 'Metodo_Pago',\n",
        "    'account.Charges.Monthly': 'Cargo_Mensual',\n",
        "    'account.Charges.Total': 'Cargo_Total'\n",
        "}, inplace=True)\n",
        "\n",
        "# 4. Verificar transformación\n",
        "print(df[['Churn', 'Tiene_Pareja', 'Tiene_Telefono', 'Facturacion_Sin_Papel', 'Genero']].head())"
      ],
      "metadata": {
        "colab": {
          "base_uri": "https://localhost:8080/"
        },
        "id": "MP4SeU2gPqYD",
        "outputId": "c3b49b15-13bd-4723-b3cb-43a7cad47491"
      },
      "execution_count": 15,
      "outputs": [
        {
          "output_type": "stream",
          "name": "stdout",
          "text": [
            "   Churn  Tiene_Pareja  Tiene_Telefono  Facturacion_Sin_Papel  Genero\n",
            "0    NaN             1               1                      1  Female\n",
            "1    NaN             0               1                      0    Male\n",
            "2    NaN             0               1                      1    Male\n",
            "3    NaN             1               1                      1    Male\n",
            "4    NaN             1               1                      1  Female\n"
          ]
        }
      ]
    },
    {
      "cell_type": "code",
      "source": [
        "# Análisis estadístico descriptivo general\n",
        "descripcion = df.describe().T  # Transpuesta para mejor legibilidad\n",
        "\n",
        "# Agregar mediana manualmente\n",
        "descripcion['mediana'] = df.median(numeric_only=True)\n",
        "\n",
        "# Mostrar resumen\n",
        "print(descripcion)"
      ],
      "metadata": {
        "colab": {
          "base_uri": "https://localhost:8080/"
        },
        "id": "-6rmckUTP57D",
        "outputId": "df7deb76-77f2-4c88-fed6-80b9413f8f6d"
      },
      "execution_count": 16,
      "outputs": [
        {
          "output_type": "stream",
          "name": "stdout",
          "text": [
            "                         count         mean          std        min  \\\n",
            "Churn                      0.0          NaN          NaN        NaN   \n",
            "Ciudadano_Senior        7032.0     0.162400     0.368844   0.000000   \n",
            "Tiene_Pareja            7032.0     0.482509     0.499729   0.000000   \n",
            "Tiene_Dependientes      7032.0     0.298493     0.457629   0.000000   \n",
            "Meses_Tenencia          7032.0    32.421786    24.545260   1.000000   \n",
            "Tiene_Telefono          7032.0     0.903299     0.295571   0.000000   \n",
            "Lineas_Multiples        6352.0     0.467097     0.498955   0.000000   \n",
            "Seguridad_Online        5512.0     0.365566     0.481632   0.000000   \n",
            "Respaldo_Online         5512.0     0.439949     0.496426   0.000000   \n",
            "Proteccion_Dispositivo  5512.0     0.438679     0.496271   0.000000   \n",
            "Soporte_Tecnico         5512.0     0.370102     0.482875   0.000000   \n",
            "TV_Streaming            5512.0     0.490385     0.499953   0.000000   \n",
            "Peliculas_Streaming     5512.0     0.495464     0.500025   0.000000   \n",
            "Facturacion_Sin_Papel   7032.0     0.592719     0.491363   0.000000   \n",
            "Cargo_Mensual           7032.0    64.798208    30.085974  18.250000   \n",
            "Cargo_Total             7032.0  2283.300441  2266.771362  18.800000   \n",
            "Cuentas_Diarias         7032.0     2.159940     1.002866   0.608333   \n",
            "\n",
            "                              25%       50%          75%          max  \\\n",
            "Churn                         NaN       NaN          NaN          NaN   \n",
            "Ciudadano_Senior          0.00000     0.000     0.000000     1.000000   \n",
            "Tiene_Pareja              0.00000     0.000     1.000000     1.000000   \n",
            "Tiene_Dependientes        0.00000     0.000     1.000000     1.000000   \n",
            "Meses_Tenencia            9.00000    29.000    55.000000    72.000000   \n",
            "Tiene_Telefono            1.00000     1.000     1.000000     1.000000   \n",
            "Lineas_Multiples          0.00000     0.000     1.000000     1.000000   \n",
            "Seguridad_Online          0.00000     0.000     1.000000     1.000000   \n",
            "Respaldo_Online           0.00000     0.000     1.000000     1.000000   \n",
            "Proteccion_Dispositivo    0.00000     0.000     1.000000     1.000000   \n",
            "Soporte_Tecnico           0.00000     0.000     1.000000     1.000000   \n",
            "TV_Streaming              0.00000     0.000     1.000000     1.000000   \n",
            "Peliculas_Streaming       0.00000     0.000     1.000000     1.000000   \n",
            "Facturacion_Sin_Papel     0.00000     1.000     1.000000     1.000000   \n",
            "Cargo_Mensual            35.58750    70.350    89.862500   118.750000   \n",
            "Cargo_Total             401.45000  1397.475  3794.737500  8684.800000   \n",
            "Cuentas_Diarias           1.18625     2.345     2.995417     3.958333   \n",
            "\n",
            "                         mediana  \n",
            "Churn                        NaN  \n",
            "Ciudadano_Senior           0.000  \n",
            "Tiene_Pareja               0.000  \n",
            "Tiene_Dependientes         0.000  \n",
            "Meses_Tenencia            29.000  \n",
            "Tiene_Telefono             1.000  \n",
            "Lineas_Multiples           0.000  \n",
            "Seguridad_Online           0.000  \n",
            "Respaldo_Online            0.000  \n",
            "Proteccion_Dispositivo     0.000  \n",
            "Soporte_Tecnico            0.000  \n",
            "TV_Streaming               0.000  \n",
            "Peliculas_Streaming        0.000  \n",
            "Facturacion_Sin_Papel      1.000  \n",
            "Cargo_Mensual             70.350  \n",
            "Cargo_Total             1397.475  \n",
            "Cuentas_Diarias            2.345  \n"
          ]
        }
      ]
    },
    {
      "cell_type": "code",
      "source": [
        "import matplotlib.pyplot as plt\n",
        "import seaborn as sns"
      ],
      "metadata": {
        "id": "kqeXqsHNQOwm"
      },
      "execution_count": 17,
      "outputs": []
    },
    {
      "cell_type": "code",
      "source": [
        "# Estilo general\n",
        "sns.set(style='whitegrid')\n",
        "\n",
        "# Figura\n",
        "plt.figure(figsize=(6, 4))\n",
        "\n",
        "# Gráfico de barras\n",
        "ax = sns.countplot(x='Churn', data=df, palette=['#4CAF50', '#F44336'])\n",
        "plt.title('Distribución de Evasión de Clientes (Churn)')\n",
        "plt.xlabel('Churn (0 = Permanece, 1 = Evasión)')\n",
        "plt.ylabel('Cantidad de Clientes')\n",
        "\n",
        "# Etiquetas de barras\n",
        "for p in ax.patches:\n",
        "    height = p.get_height()\n",
        "    ax.annotate(f'{height}', (p.get_x() + p.get_width() / 2., height),\n",
        "                ha='center', va='bottom')\n",
        "\n",
        "plt.tight_layout()\n",
        "plt.show()"
      ],
      "metadata": {
        "colab": {
          "base_uri": "https://localhost:8080/",
          "height": 523
        },
        "id": "MPyBRslQQSM2",
        "outputId": "e7857c28-6d8e-4e88-e513-de1808806fd0"
      },
      "execution_count": 18,
      "outputs": [
        {
          "output_type": "stream",
          "name": "stderr",
          "text": [
            "<ipython-input-18-9fd34fa7f660>:8: FutureWarning: \n",
            "\n",
            "Passing `palette` without assigning `hue` is deprecated and will be removed in v0.14.0. Assign the `x` variable to `hue` and set `legend=False` for the same effect.\n",
            "\n",
            "  ax = sns.countplot(x='Churn', data=df, palette=['#4CAF50', '#F44336'])\n",
            "<ipython-input-18-9fd34fa7f660>:8: UserWarning: Ignoring `palette` because no `hue` variable has been assigned.\n",
            "  ax = sns.countplot(x='Churn', data=df, palette=['#4CAF50', '#F44336'])\n"
          ]
        },
        {
          "output_type": "display_data",
          "data": {
            "text/plain": [
              "<Figure size 600x400 with 1 Axes>"
            ],
            "image/png": "[encoded data removed]"
          },
          "metadata": {}
        }
      ]
    },
    {
      "cell_type": "code",
      "source": [],
      "metadata": {
        "id": "ihtOMVe4QWNL"
      },
      "execution_count": null,
      "outputs": []
    }
  ]
}